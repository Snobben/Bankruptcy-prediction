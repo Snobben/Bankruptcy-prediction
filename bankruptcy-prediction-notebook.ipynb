{
 "cells": [
  {
   "cell_type": "code",
   "execution_count": 43,
   "metadata": {},
   "outputs": [
    {
     "ename": "ERROR",
     "evalue": "Error in parse(text = x, srcfile = src): <text>:3:8: unexpected symbol\n2: #To ignore warning messages which clutters the output\n3: import warnings\n          ^\n",
     "output_type": "error",
     "traceback": [
      "Error in parse(text = x, srcfile = src): <text>:3:8: unexpected symbol\n2: #To ignore warning messages which clutters the output\n3: import warnings\n          ^\nTraceback:\n"
     ]
    }
   ],
   "source": [
    "library(data.table)\n",
    "\n",
    "\n",
    "\n"
   ]
  },
  {
   "cell_type": "code",
   "execution_count": 3,
   "metadata": {},
   "outputs": [],
   "source": [
    "#loading the dataset.\n",
    "\n",
    "data = fread('data_aarsregnskaper.csv')"
   ]
  },
  {
   "cell_type": "code",
   "execution_count": 4,
   "metadata": {},
   "outputs": [
    {
     "data": {
      "text/html": [
       "<ol class=list-inline>\n",
       "\t<li>1380494</li>\n",
       "\t<li>75</li>\n",
       "</ol>\n"
      ],
      "text/latex": [
       "\\begin{enumerate*}\n",
       "\\item 1380494\n",
       "\\item 75\n",
       "\\end{enumerate*}\n"
      ],
      "text/markdown": [
       "1. 1380494\n",
       "2. 75\n",
       "\n",
       "\n"
      ],
      "text/plain": [
       "[1] 1380494      75"
      ]
     },
     "metadata": {},
     "output_type": "display_data"
    },
    {
     "name": "stdout",
     "output_type": "stream",
     "text": [
      "Classes 'data.table' and 'data.frame':\t1380494 obs. of  75 variables:\n",
      " $ Andre_avsetninger_for_forpliktelser                          : num  0 0 0 0 0 0 0 0 0 0 ...\n",
      " $ Andre_finansielle_instrumenter                               : num  0 0 0 0 0 0 0 0 0 0 ...\n",
      " $ Andre_fordringer                                             : num  556686 9770612 -29964 44017568 156218 ...\n",
      " $ Andre_immaterielle_eiendeler                                 : num  0 0 0 0 0 0 0 0 0 0 ...\n",
      " $ Annen_driftsinntekt                                          : num  0.00 0.00 5.65e+08 4.32e+07 0.00 ...\n",
      " $ Annen_driftskostnad                                          : num  1.30e+07 2.16e+02 4.72e+08 3.42e+08 1.74e+06 ...\n",
      " $ Annen_finansinntekt                                          : num  20752918 0 0 31415028 0 ...\n",
      " $ Annen_finanskostnad                                          : num  2.04e+07 0.00 1.30e+08 3.24e+07 2.96e+04 ...\n",
      " $ Annen_innskutt_egenkapital                                   : num  2.70e+07 0.00 1.11e+09 9.93e+06 0.00 ...\n",
      " $ Annen_renteinntekt                                           : num  1428444 844629 16198268 215378 0 ...\n",
      " $ Annen_rentekostnad                                           : num  2.24e+06 8.45e+05 3.30e+08 5.98e+06 3.41e+06 ...\n",
      " $ Avsatt_utbytte                                               : num  0 0 0 0 0 0 0 0 0 0 ...\n",
      " $ Avskrivning_paa_varige_driftsmidler_og_immaterielle_eiendeler: num  5.54e+04 0.00 2.09e+08 3.46e+07 0.00 ...\n",
      " $ Beholdning_av_egne_aksjer                                    : num  0 0 0 0 0 0 0 0 0 0 ...\n",
      " $ Betalbar_skatt                                               : num  0 0 0 0 0 ...\n",
      " $ Driftsresultat                                               : num  -14583949 -216 428747722 56029462 -29694667 ...\n",
      " $ Fond                                                         : num  0 0 0 0 0 0 0 0 0 0 ...\n",
      " $ Fondsemisjon                                                 : num  0 0 0 0 0 0 0 0 0 0 ...\n",
      " $ Forskning_og_utvikling                                       : num  0 0 0 0 0 0 0 0 0 0 ...\n",
      " $ Gjeld_til_kredittinstitusjoner                               : num  0.0 0.0 0.0 3.9e+07 0.0 ...\n",
      " $ Goodwill                                                     : num  0 0 0 0 0 0 0 0 0 0 ...\n",
      " $ Kundefordringer                                              : num  1.38e+08 0.00 1.31e+07 7.31e+07 3.19e+06 ...\n",
      " $ Leverandoergjeld                                             : num  2735698 10385 1486190 64231490 6002960 ...\n",
      " $ Loennskostnad                                                : num  0.00 0.00 1.67e+06 1.05e+08 0.00 ...\n",
      " $ Maskiner_og_anlegg                                           : num  0 0 0 0 0 0 0 0 0 0 ...\n",
      " $ Nedskrivning_av_finansielle_eiendeler                        : num  0 0 86438705 0 0 ...\n",
      " $ Nedskrivning_av_varige_driftsmidler_og_immaterielle_eiendeler: num  0.0 0.0 0.0 0.0 2.8e+07 ...\n",
      " $ Ordinaert_resultat_etter_skattekostnad                       : num  -15750350 -216 10661013 18215830 -33136017 ...\n",
      " $ Ordinaert_resultat_foer_skattekostnad                        : num  -15072096 -216 58165146 37103233 -33136017 ...\n",
      " $ Ordinaert_utbytte                                            : num  0 0 0 0 0 0 0 0 0 0 ...\n",
      " $ Overkurs                                                     : num  0 0 0 0 0 0 0 0 0 0 ...\n",
      " $ Overkursfond                                                 : num  80525372 15581 0 0 65960079 ...\n",
      " $ Resultat_av_ekstraordinaere_poster                           : num  0 0 0 0 0 0 0 0 0 0 ...\n",
      " $ SUM_EIENDELER                                                : num  7.15e+08 9.88e+06 5.85e+09 8.82e+08 1.42e+07 ...\n",
      " $ Salgsinntekt                                                 : num  9.98e+05 0.00 1.11e+09 4.95e+08 0.00 ...\n",
      " $ Skattekostnad_paa_ekstraordinaert_resultat                   : num  0 0 0 0 0 ...\n",
      " $ Skattekostnad_paa_ordinaert_resultat                         : num  678254 0 47504133 18887402 0 ...\n",
      " $ Skyldige_offentlige_avgifter                                 : num  0 0 17978 0 0 ...\n",
      " $ Sum_anleggsmidler                                            : num  4.34e+08 1.11e+05 3.76e+09 4.27e+08 1.40e+07 ...\n",
      " $ Sum_avsetninger_for_forpliktelser                            : num  0.0 0.0 0.0 1.5e+07 0.0 ...\n",
      " $ Sum_egenkapital                                              : num  6.86e+08 1.02e+05 1.21e+09 3.88e+08 -3.00e+07 ...\n",
      " $ Sum_finansielle_anleggsmidler                                : num  3.99e+08 1.11e+05 8.70e+07 8.13e+07 0.00 ...\n",
      " $ Sum_finansinntekter                                          : num  22181362 844629 90244069 31630405 0 ...\n",
      " $ Sum_finanskostnader                                          : num  2.27e+07 8.45e+05 4.61e+08 5.06e+07 3.44e+06 ...\n",
      " $ Sum_fordringer                                               : num  1.39e+08 9.77e+06 1.82e+09 2.82e+08 1.56e+05 ...\n",
      " $ Sum_gjeld                                                    : num  2.89e+07 9.78e+06 4.64e+09 4.93e+08 4.42e+07 ...\n",
      " $ Sum_immaterielle_eiendeler                                   : num  3.41e+07 0.00 2.80e+08 1.29e+07 1.40e+07 ...\n",
      " $ Sum_innskutt_egenkapital                                     : num  6.28e+08 1.19e+05 1.11e+09 1.83e+08 6.80e+07 ...\n",
      " $ Sum_inntekter                                                : num  9.98e+05 0.00 1.11e+09 5.38e+08 0.00 ...\n",
      " $ Sum_investeringer                                            : num  0 0 0 0 0 0 0 0 0 0 ...\n",
      " $ Sum_kortsiktig_gjeld                                         : num  1.29e+07 1.46e+06 5.25e+08 3.56e+08 6.00e+06 ...\n",
      " $ Sum_kostnader                                                : num  1.56e+07 2.16e+02 6.82e+08 4.82e+08 2.97e+07 ...\n",
      " $ Sum_langsiktig_gjeld                                         : num  1.60e+07 8.32e+06 4.11e+09 1.37e+08 4.42e+07 ...\n",
      " $ Sum_omloepsmidler                                            : num  2.81e+08 9.77e+06 2.08e+09 4.55e+08 1.56e+05 ...\n",
      " $ Sum_opptjent_egenkapital                                     : num  58255900 -16947 96997842 205660121 -97986626 ...\n",
      " $ Sum_varer                                                    : num  0 0 0 8073425 0 ...\n",
      " $ Sum_varige_driftsmidler                                      : num  3.66e+05 0.00 3.40e+09 3.32e+08 0.00 ...\n",
      " $ Totalresultat                                                : num  0 0 0 0 0 0 0 0 0 0 ...\n",
      " $ Udekket_tap                                                  : num  0 0 0 0 0 0 0 0 0 0 ...\n",
      " $ Utbytte                                                      : num  0 0 0 0 0 0 0 0 0 0 ...\n",
      " $ Utsatt_skatt                                                 : num  0.0 0.0 0.0 1.5e+07 0.0 ...\n",
      " $ Utsatt_skattefordel                                          : num  3.41e+07 0.00 2.80e+08 0.00 0.00 ...\n",
      " $ Varekostnad                                                  : num  2495270 0 0 0 0 ...\n",
      " $ fravalg_revisjon                                             : chr  \"N\" \"N\" \"\" \"\" ...\n",
      " $ orgform                                                      : chr  \"ASA\" \"AS\" \"AS\" \"AS\" ...\n",
      " $ orgnr                                                        : num  9.85e+08 9.93e+08 8.77e+08 9.96e+08 8.89e+08 ...\n",
      " $ regler_smaa                                                  : chr  \"N\" \"J\" \"N\" \"N\" ...\n",
      " $ regnaar                                                      : int  2011 2011 2011 2011 2011 2011 2011 2011 2011 2011 ...\n",
      " $ Aarsresultat                                                 : num  -15750350 -216 10661013 18215830 -33136017 ...\n",
      " $ landkode                                                     : chr  \"NO\" \"NO\" \"NO\" \"NO\" ...\n",
      " $ postnummer                                                   : num  663 5536 4056 5160 161 ...\n",
      " $ naeringskode                                                 : chr  \"0\" \"0\" \"B\" \"M\" ...\n",
      " $ alder_i_dager                                                : num  3414 1211 5441 386 2305 ...\n",
      " $ konkurs                                                      : logi  FALSE FALSE FALSE FALSE FALSE FALSE ...\n",
      " $ Sum_bankinnskudd,_kontanter_og_lignende                      : num  447700 109371 0 43121 27729 ...\n",
      " - attr(*, \".internal.selfref\")=<externalptr> \n"
     ]
    }
   ],
   "source": [
    "#initial simple investigation of the data.\n",
    "dim(data)\n",
    "str(data)"
   ]
  },
  {
   "cell_type": "code",
   "execution_count": 5,
   "metadata": {},
   "outputs": [],
   "source": [
    "#Changing some variable data type to factor from character to be able to perform certain analysis.\n",
    "data$fravalg_revisjon = as.factor(data$fravalg_revisjon) \n",
    "data$orgform = as.factor(data$orgform)\n",
    "data$regler_smaa = as.factor(data$regler_smaa)\n",
    "data$landkode = as.factor(data$landkode)\n",
    "data$naeringskode = as.factor(data$naeringskode)"
   ]
  },
  {
   "cell_type": "code",
   "execution_count": 6,
   "metadata": {},
   "outputs": [
    {
     "name": "stdout",
     "output_type": "stream",
     "text": [
      "package 'sqldf' successfully unpacked and MD5 sums checked\n",
      "\n",
      "The downloaded binary packages are in\n",
      "\tC:\\Users\\haava\\AppData\\Local\\Temp\\RtmpY9vnOY\\downloaded_packages\n"
     ]
    },
    {
     "name": "stderr",
     "output_type": "stream",
     "text": [
      "Warning message:\n",
      "\"package 'sqldf' was built under R version 3.6.3\"Loading required package: gsubfn\n",
      "Warning message:\n",
      "\"package 'gsubfn' was built under R version 3.6.3\"Loading required package: proto\n",
      "Warning message:\n",
      "\"package 'proto' was built under R version 3.6.3\"Loading required package: RSQLite\n",
      "Warning message:\n",
      "\"package 'RSQLite' was built under R version 3.6.3\""
     ]
    }
   ],
   "source": [
    "#Checking if theres too many or few accounts compared to organizations. Result: equal\n",
    "install.packages('sqldf')\n",
    "library(sqldf)\n",
    "table_1c = sqldf(\"SELECT \n",
    "                 regnaar, \n",
    "                 count (orgnr) AS antall_regnskap, \n",
    "                 count (DISTINCT orgnr) AS antall_org\n",
    "                 FROM data \n",
    "                 GROUP BY regnaar\")"
   ]
  },
  {
   "cell_type": "code",
   "execution_count": 7,
   "metadata": {},
   "outputs": [
    {
     "data": {
      "text/plain": [
       "   Mode   FALSE    TRUE \n",
       "logical 1356002   24492 "
      ]
     },
     "metadata": {},
     "output_type": "display_data"
    }
   ],
   "source": [
    "#Checking the information on bankruptcies. \n",
    "summary(data$konkurs)"
   ]
  },
  {
   "cell_type": "code",
   "execution_count": 8,
   "metadata": {},
   "outputs": [],
   "source": [
    "#Grouping bankruptices by organizational form\n",
    "table_1d = sqldf('SELECT\n",
    "                 orgform,\n",
    "                 SUM(CASE WHEN konkurs = 1 THEN 1 ELSE 0 END) AS konk,\n",
    "                 SUM(CASE WHEN konkurs = 0 THEN 1 ELSE 0 END) AS ikke_konk\n",
    "                 FROM data\n",
    "                 GROUP BY orgform')"
   ]
  },
  {
   "cell_type": "code",
   "execution_count": 9,
   "metadata": {},
   "outputs": [
    {
     "name": "stderr",
     "output_type": "stream",
     "text": [
      "Registered S3 methods overwritten by 'ggplot2':\n",
      "  method         from \n",
      "  [.quosures     rlang\n",
      "  c.quosures     rlang\n",
      "  print.quosures rlang\n"
     ]
    }
   ],
   "source": [
    "\n",
    "#Loading plot library\n",
    "library(ggplot2)"
   ]
  },
  {
   "cell_type": "code",
   "execution_count": 10,
   "metadata": {},
   "outputs": [
    {
     "data": {
      "image/png": "[encoded data removed]",
      "text/plain": [
       "plot without title"
      ]
     },
     "metadata": {},
     "output_type": "display_data"
    }
   ],
   "source": [
    "#Plotting bankruptices based on organizational form\n",
    "plot_1e = \n",
    "  ggplot(table_1d, aes(x=orgform))+\n",
    "  geom_col(aes(y = konk))\n",
    "plot_1e"
   ]
  },
  {
   "cell_type": "code",
   "execution_count": 11,
   "metadata": {},
   "outputs": [],
   "source": [
    "#The plot above is not very informative because of the vast amount of AS compared to other organizational forms\n",
    "#therefore transforming to relative share of bankruptcies to number of organizations within respective form\n",
    "table_1d$andel_konkurs = table_1d$konk/(table_1d$ikke_konk+table_1d$konk)"
   ]
  },
  {
   "cell_type": "code",
   "execution_count": 12,
   "metadata": {},
   "outputs": [
    {
     "data": {
      "image/png": "[encoded data removed]",
      "text/plain": [
       "plot without title"
      ]
     },
     "metadata": {},
     "output_type": "display_data"
    }
   ],
   "source": [
    "#Plotting with relative shares.\n",
    "plot_1f = \n",
    "  ggplot(table_1d, aes(x=orgform))+\n",
    "  geom_col(aes(y = andel_konkurs))\n",
    "plot_1f"
   ]
  },
  {
   "cell_type": "code",
   "execution_count": 13,
   "metadata": {},
   "outputs": [],
   "source": [
    "#Now, in plot f, we can actually see that the organizational form with the highest share of bankruptcies is SE.\n",
    "#But from table 1d we read that it only has one bankruptcy, so this must be considered a random, not trustworthy statistic.\n",
    "#Apart from that, AS is still highest, with NUF behind and all others quite far below. \n",
    "\n",
    "#Making a subset data set consisting only of AS and ASA org forms, because they are two of the most common and interesting ones.\n",
    "#Especially ASA is of course by definition the only publicly traded form, and so it is relevant for investors to predict bankruptcy. \n",
    "#Of course, it can also be useful for other interests, such as banks wishing to evaluate risk of approving loans to businesses. \n",
    "data2 = subset(data, orgform=='AS' | orgform == 'ASA')\n",
    "\n",
    "#Making a subset of the previous subset with only Norwegian companies; since none were excluded all were Norwegian from the start. \n",
    "data3 = subset(data2, landkode == 'NO')"
   ]
  },
  {
   "cell_type": "code",
   "execution_count": 14,
   "metadata": {},
   "outputs": [],
   "source": [
    "#Making some new variables used to make Altmans Z-score formula for predicting bankrupty.\n",
    "data3$x1 = (data3$Sum_omloepsmidler-data3$Sum_kortsiktig_gjeld)/data3$SUM_EIENDELER\n",
    "data3$x2 = data3$Sum_opptjent_egenkapital/data3$SUM_EIENDELER\n",
    "data3$x3 = data3$Driftsresultat/data3$SUM_EIENDELER\n",
    "data3$x4 = data3$Sum_egenkapital/data3$Sum_gjeld\n",
    "data3$x5 = data3$Sum_inntekter/data3$SUM_EIENDELER"
   ]
  },
  {
   "cell_type": "code",
   "execution_count": 18,
   "metadata": {},
   "outputs": [],
   "source": [
    "#Making new variables based on the Norwegian central bank SEBRA model.\n",
    "data3$v1 = (data3$Ordinaert_resultat_foer_skattekostnad-data3$Nedskrivning_av_varige_driftsmidler_og_immaterielle_eiendeler- data3$Nedskrivning_av_finansielle_eiendeler-data3$Avskrivning_paa_varige_driftsmidler_og_immaterielle_eiendeler)/data3$Sum_gjeld\n",
    "data3$v2 = data3$Sum_egenkapital/data3$SUM_EIENDELER\n",
    "data3$v3 = ifelse(data3$Sum_innskutt_egenkapital<data3$Sum_egenkapital,1,0)\n",
    "data3$v4 = (data3$`Sum_bankinnskudd,_kontanter_og_lignende`-data3$Sum_kortsiktig_gjeld)/data3$Sum_inntekter\n",
    "data3$v5 = data3$Leverandoergjeld/data3$SUM_EIENDELER\n",
    "data3$v6 = data3$Skyldige_offentlige_avgifter/data3$SUM_EIENDELER\n",
    "data3$alder_i_år = data3$alder_i_dager/365 #litt feil pga skuddår men la gå.\n",
    "data3$a1 = ifelse(data3$alder_i_år>=1, 1,0)\n",
    "data3$a2 = ifelse(data3$alder_i_år>=2, 1,0)\n",
    "data3$a3 = ifelse(data3$alder_i_år>=3, 1,0)\n",
    "data3$a4 = ifelse(data3$alder_i_år>=4, 1,0)\n",
    "data3$a5 = ifelse(data3$alder_i_år>=5, 1,0)\n",
    "data3$a6 = ifelse(data3$alder_i_år>=6, 1,0)\n",
    "data3$a7 = ifelse(data3$alder_i_år>=7, 1,0)\n",
    "data3$a8 = ifelse(data3$alder_i_år>=8, 1,0)"
   ]
  },
  {
   "cell_type": "code",
   "execution_count": 20,
   "metadata": {},
   "outputs": [],
   "source": [
    "#Removing firms with less than NOK 500 000 in assets,\n",
    "#and removing business codes not used in the norwegian bank model.\n",
    "data_sebra = subset(data3, SUM_EIENDELER>= 500000)\n",
    "data_sebra = data_sebra[!(naeringskode==\"O\"|naeringskode==\"T\"|naeringskode==\"U\"|naeringskode==\"K\"|naeringskode==\"E\"|naeringskode==\"D\"|naeringskode==0|naeringskode==\"MISSING\"),]\n"
   ]
  },
  {
   "cell_type": "code",
   "execution_count": 21,
   "metadata": {},
   "outputs": [
    {
     "data": {
      "image/png": "[encoded data removed]",
      "text/plain": [
       "plot without title"
      ]
     },
     "metadata": {},
     "output_type": "display_data"
    }
   ],
   "source": [
    "#Plotting age per business code to see what kinds of businesses last the longest.\n",
    "plot_2d = ggplot(data_sebra, aes(x=naeringskode, y=alder_i_år)) + \n",
    "  geom_boxplot()\n",
    "plot_2d "
   ]
  },
  {
   "cell_type": "code",
   "execution_count": 22,
   "metadata": {},
   "outputs": [
    {
     "data": {
      "image/png": "[encoded data removed]",
      "text/plain": [
       "plot without title"
      ]
     },
     "metadata": {},
     "output_type": "display_data"
    }
   ],
   "source": [
    "#Plotting average age of bankrupt and not bankrupt businesses. \n",
    "plot_2d2 = ggplot(data_sebra, aes(x=konkurs, y=alder_i_år)) + \n",
    "  geom_boxplot()\n",
    "plot_2d2   "
   ]
  },
  {
   "cell_type": "code",
   "execution_count": 23,
   "metadata": {},
   "outputs": [],
   "source": [
    "#Since many of the variables created are relative, \n",
    "#We need to change some values who end up as infinity to 0.\n",
    "data_sebra[which(is.infinite(data_sebra$x1)|is.na(data_sebra$x1)),'x1'] = 0\n",
    "data_sebra[which(is.infinite(data_sebra$x2)|is.na(data_sebra$x2)),'x2'] = 0\n",
    "data_sebra[which(is.infinite(data_sebra$x3)|is.na(data_sebra$x3)),'x3'] = 0\n",
    "data_sebra[which(is.infinite(data_sebra$x4)|is.na(data_sebra$x4)),'x4'] = 0\n",
    "data_sebra[which(is.infinite(data_sebra$x5)|is.na(data_sebra$x5)),'x5'] = 0\n",
    "data_sebra[which(is.infinite(data_sebra$v1)|is.na(data_sebra$v1)),'v1'] = 0\n",
    "data_sebra[which(is.infinite(data_sebra$v2)|is.na(data_sebra$v2)),'v2'] = 0\n",
    "data_sebra[which(is.infinite(data_sebra$v4)|is.na(data_sebra$v4)),'v4'] = 0\n",
    "data_sebra[which(is.infinite(data_sebra$v5)|is.na(data_sebra$v5)),'v5'] = 0\n",
    "data_sebra[which(is.infinite(data_sebra$v6)|is.na(data_sebra$v6)),'v6'] = 0"
   ]
  },
  {
   "cell_type": "code",
   "execution_count": 24,
   "metadata": {},
   "outputs": [
    {
     "name": "stdout",
     "output_type": "stream",
     "text": [
      "package 'ISLR' successfully unpacked and MD5 sums checked\n",
      "\n",
      "The downloaded binary packages are in\n",
      "\tC:\\Users\\haava\\AppData\\Local\\Temp\\RtmpY9vnOY\\downloaded_packages\n"
     ]
    },
    {
     "name": "stderr",
     "output_type": "stream",
     "text": [
      "Warning message:\n",
      "\"package 'ISLR' was built under R version 3.6.3\""
     ]
    },
    {
     "data": {
      "text/html": [
       "2015"
      ],
      "text/latex": [
       "2015"
      ],
      "text/markdown": [
       "2015"
      ],
      "text/plain": [
       "[1] 2015"
      ]
     },
     "metadata": {},
     "output_type": "display_data"
    }
   ],
   "source": [
    "install.packages('ISLR')\n",
    "library(ISLR)\n",
    "\n",
    "#Checking the newest year of accounts.\n",
    "max(data_sebra$regnaar)\n"
   ]
  },
  {
   "cell_type": "code",
   "execution_count": 25,
   "metadata": {},
   "outputs": [],
   "source": [
    "#Making test set with the newest year, 2015, and using the rest as\n",
    "#training data.\n",
    "test = data_sebra[data_sebra$regnaar>=2015]\n",
    "train = data_sebra[data_sebra$regnaar<2015]"
   ]
  },
  {
   "cell_type": "code",
   "execution_count": 26,
   "metadata": {},
   "outputs": [],
   "source": [
    "\n",
    "#This forces R to not give output numbers in scientific notation\n",
    "#Remove it if you want to.\n",
    "options(scipen=999)"
   ]
  },
  {
   "cell_type": "code",
   "execution_count": 27,
   "metadata": {},
   "outputs": [],
   "source": [
    "#Changing the factor values to numeric, to be able to perform \n",
    "#regression and other analysis. \n",
    "train$konkurs = as.numeric(train$konkurs)\n",
    "test$konkurs = as.numeric(test$konkurs)"
   ]
  },
  {
   "cell_type": "code",
   "execution_count": 28,
   "metadata": {},
   "outputs": [
    {
     "data": {
      "text/plain": [
       "\n",
       "Call:\n",
       "lm(formula = konkurs ~ x1 + x2 + x3 + x4 + x5, data = train)\n",
       "\n",
       "Residuals:\n",
       "     Min       1Q   Median       3Q      Max \n",
       "-1.15491 -0.01206 -0.00831 -0.00715  1.09560 \n",
       "\n",
       "Coefficients:\n",
       "                    Estimate       Std. Error t value             Pr(>|t|)    \n",
       "(Intercept)  0.0075728343231  0.0001561917894  48.484 < 0.0000000000000002 ***\n",
       "x1          -0.0026927933728  0.0001417171939 -19.001 < 0.0000000000000002 ***\n",
       "x2          -0.0000888752158  0.0000279854916  -3.176              0.00149 ** \n",
       "x3          -0.0089547585487  0.0003165595952 -28.288 < 0.0000000000000002 ***\n",
       "x4          -0.0000000002395  0.0000000014811  -0.162              0.87152    \n",
       "x5           0.0028310207316  0.0000626197008  45.210 < 0.0000000000000002 ***\n",
       "---\n",
       "Signif. codes:  0 '***' 0.001 '**' 0.01 '*' 0.05 '.' 0.1 ' ' 1\n",
       "\n",
       "Residual standard error: 0.1013 on 622644 degrees of freedom\n",
       "Multiple R-squared:  0.005507,\tAdjusted R-squared:  0.005499 \n",
       "F-statistic: 689.6 on 5 and 622644 DF,  p-value: < 0.00000000000000022\n"
      ]
     },
     "metadata": {},
     "output_type": "display_data"
    }
   ],
   "source": [
    "#Here we are performing a linear regression with the Altman Z-score variables as predictors\n",
    "model_lm_altmann = lm(konkurs~x1+x2+x3+x4+x5,data = train)\n",
    "\n",
    "#summary stats of the model\n",
    "\n",
    "summary(model_lm_altmann)"
   ]
  },
  {
   "cell_type": "code",
   "execution_count": 29,
   "metadata": {},
   "outputs": [
    {
     "data": {
      "text/plain": [
       "   \n",
       "         0      1\n",
       "  0 162843      5\n",
       "  1   4709      0"
      ]
     },
     "metadata": {},
     "output_type": "display_data"
    }
   ],
   "source": [
    "#prediction on the test set with the fitted model from above\n",
    "test$probs_konkurs_lm = predict(model_lm_altmann,test)\n",
    "test$bin_konkurs_lm = ifelse(test$probs_konkurs_lm>=0.5,1,0)\n",
    "\n",
    "#Confusion matrix too observe how many true positives and so on\n",
    "table(test$konkurs,test$bin_konkurs_lm)\n"
   ]
  },
  {
   "cell_type": "code",
   "execution_count": 30,
   "metadata": {},
   "outputs": [
    {
     "data": {
      "text/plain": [
       "\n",
       "Call:\n",
       "glm(formula = konkurs ~ x1 + x2 + x3 + x4 + x5, family = binomial, \n",
       "    data = train)\n",
       "\n",
       "Deviance Residuals: \n",
       "    Min       1Q   Median       3Q      Max  \n",
       "-7.0832  -0.1470  -0.1367  -0.1340   3.4363  \n",
       "\n",
       "Coefficients:\n",
       "                  Estimate     Std. Error  z value             Pr(>|z|)    \n",
       "(Intercept) -4.70763376380  0.01440498711 -326.806 < 0.0000000000000002 ***\n",
       "x1          -0.04543548647  0.00812626908   -5.591         0.0000000226 ***\n",
       "x2          -0.00118054663  0.00064641321   -1.826               0.0678 .  \n",
       "x3          -0.17830368337  0.01772712422  -10.058 < 0.0000000000000002 ***\n",
       "x4          -0.00000006011  0.00000021904   -0.274               0.7838    \n",
       "x5           0.10259207003  0.00363416616   28.230 < 0.0000000000000002 ***\n",
       "---\n",
       "Signif. codes:  0 '***' 0.001 '**' 0.01 '*' 0.05 '.' 0.1 ' ' 1\n",
       "\n",
       "(Dispersion parameter for binomial family taken to be 1)\n",
       "\n",
       "    Null deviance: 72195  on 622649  degrees of freedom\n",
       "Residual deviance: 71168  on 622644  degrees of freedom\n",
       "AIC: 71180\n",
       "\n",
       "Number of Fisher Scoring iterations: 7\n"
      ]
     },
     "metadata": {},
     "output_type": "display_data"
    },
    {
     "data": {
      "text/plain": [
       "   \n",
       "         0      1\n",
       "  0 162828     20\n",
       "  1   4707      2"
      ]
     },
     "metadata": {},
     "output_type": "display_data"
    }
   ],
   "source": [
    "#Clearing up some memory space, our weak computer struggles(Is there a convention for doing this?)\n",
    "data2=0\n",
    "data=0\n",
    "data3=0\n",
    "\n",
    "#Making a logistic regression model, with the same procedure after fitting.\n",
    "model_lr_altman = glm(konkurs~x1+x2+x3+x4+x5,data=train, family=binomial)\n",
    "summary(model_lr_altman)\n",
    "\n",
    "\n",
    "test$probs_konkurs_lr = predict(model_lr_altman,test,type=\"response\")\n",
    "test$bin_konkurs_lr = ifelse(test$probs_konkurs_lr>=0.5,1,0)\n",
    "table(test$konkurs,test$bin_konkurs_lr)"
   ]
  },
  {
   "cell_type": "code",
   "execution_count": 31,
   "metadata": {},
   "outputs": [
    {
     "name": "stderr",
     "output_type": "stream",
     "text": [
      "Warning message:\n",
      "\"glm.fit: fitted probabilities numerically 0 or 1 occurred\""
     ]
    },
    {
     "data": {
      "text/plain": [
       "\n",
       "Call:\n",
       "glm(formula = konkurs ~ v1 + v2 + v3 + v4 + v5 + v6 + a1 + a2 + \n",
       "    a3 + a4 + a5 + a6 + a7 + a8, family = binomial, data = train)\n",
       "\n",
       "Deviance Residuals: \n",
       "    Min       1Q   Median       3Q      Max  \n",
       "-8.4904  -0.1618  -0.1034  -0.0877   3.3737  \n",
       "\n",
       "Coefficients:\n",
       "                  Estimate     Std. Error z value             Pr(>|z|)    \n",
       "(Intercept) -3.63476530769  0.08145254062 -44.624 < 0.0000000000000002 ***\n",
       "v1           0.00000002439  0.00000071963   0.034              0.97296    \n",
       "v2          -0.02145080725  0.00332821145  -6.445       0.000000000115 ***\n",
       "v3          -1.29472165857  0.02657940309 -48.711 < 0.0000000000000002 ***\n",
       "v4           0.00000064265  0.00000171535   0.375              0.70792    \n",
       "v5           0.50844676316  0.02612430216  19.463 < 0.0000000000000002 ***\n",
       "v6           2.78764354807  0.07659042632  36.397 < 0.0000000000000002 ***\n",
       "a1           0.02888059326  0.08985135589   0.321              0.74789    \n",
       "a2           0.08795435542  0.05360435395   1.641              0.10084    \n",
       "a3          -0.22225035387  0.05616622444  -3.957       0.000075893517 ***\n",
       "a4          -0.04952115676  0.06193858306  -0.800              0.42399    \n",
       "a5          -0.21479409391  0.06612383199  -3.248              0.00116 ** \n",
       "a6          -0.20741242872  0.07023511130  -2.953              0.00315 ** \n",
       "a7          -0.15980193480  0.07642554894  -2.091              0.03653 *  \n",
       "a8           0.04857614411  0.06079448021   0.799              0.42428    \n",
       "---\n",
       "Signif. codes:  0 '***' 0.001 '**' 0.01 '*' 0.05 '.' 0.1 ' ' 1\n",
       "\n",
       "(Dispersion parameter for binomial family taken to be 1)\n",
       "\n",
       "    Null deviance: 72195  on 622649  degrees of freedom\n",
       "Residual deviance: 65941  on 622635  degrees of freedom\n",
       "AIC: 65971\n",
       "\n",
       "Number of Fisher Scoring iterations: 11\n"
      ]
     },
     "metadata": {},
     "output_type": "display_data"
    },
    {
     "data": {
      "text/plain": [
       "   \n",
       "         0      1\n",
       "  0 162818     30\n",
       "  1   4701      8"
      ]
     },
     "metadata": {},
     "output_type": "display_data"
    }
   ],
   "source": [
    "#Now we are training a logistic model to predict using the SEBRA based model instead of the Altman Z. \n",
    "model_lr_sebra = glm(konkurs~v1+v2+v3+v4+v5+v6+a1+a2+a3+a4+a5+a6+a7+a8,data=train, family=binomial)\n",
    "summary(model_lr_sebra)\n",
    "test$probs_konkurs_lr_s = predict(model_lr_sebra,test,type=\"response\")\n",
    "test$bin_konkurs_lr_s = ifelse(test$probs_konkurs_lr_s>=0.5,1,0)\n",
    "table(test$konkurs,test$bin_konkurs_lr_s)"
   ]
  },
  {
   "cell_type": "code",
   "execution_count": 33,
   "metadata": {},
   "outputs": [
    {
     "name": "stdout",
     "output_type": "stream",
     "text": [
      "\n",
      "  There is a binary version available but the source version is later:\n",
      "     binary   source needs_compilation\n",
      "pROC 1.16.2 1.17.0.1              TRUE\n",
      "\n",
      "  Binaries will be installed\n",
      "package 'pROC' successfully unpacked and MD5 sums checked\n",
      "\n",
      "The downloaded binary packages are in\n",
      "\tC:\\Users\\haava\\AppData\\Local\\Temp\\RtmpY9vnOY\\downloaded_packages\n"
     ]
    },
    {
     "name": "stderr",
     "output_type": "stream",
     "text": [
      "Warning message:\n",
      "\"package 'pROC' was built under R version 3.6.3\"Type 'citation(\"pROC\")' for a citation.\n",
      "\n",
      "Attaching package: 'pROC'\n",
      "\n",
      "The following objects are masked from 'package:stats':\n",
      "\n",
      "    cov, smooth, var\n",
      "\n",
      "Setting levels: control = 0, case = 1\n",
      "Setting direction: controls < cases\n"
     ]
    },
    {
     "data": {
      "text/plain": [
       "\n",
       "Call:\n",
       "roc.default(response = test$konkurs, predictor = test$probs_konkurs_lr)\n",
       "\n",
       "Data: test$probs_konkurs_lr in 162848 controls (test$konkurs 0) < 4709 cases (test$konkurs 1).\n",
       "Area under the curve: 0.7455"
      ]
     },
     "metadata": {},
     "output_type": "display_data"
    }
   ],
   "source": [
    "install.packages('pROC')\n",
    "library(pROC)\n",
    "#Making ROC-plot with the altman model and SEBRA model, showing prediction accuracies.\n",
    "roc(test$konkurs, test$probs_konkurs_lr)\n"
   ]
  },
  {
   "cell_type": "code",
   "execution_count": 34,
   "metadata": {},
   "outputs": [
    {
     "name": "stderr",
     "output_type": "stream",
     "text": [
      "Setting levels: control = 0, case = 1\n",
      "Setting direction: controls < cases\n"
     ]
    },
    {
     "data": {
      "text/plain": [
       "\n",
       "Call:\n",
       "roc.default(response = test$konkurs, predictor = test$probs_konkurs_lr_s)\n",
       "\n",
       "Data: test$probs_konkurs_lr_s in 162848 controls (test$konkurs 0) < 4709 cases (test$konkurs 1).\n",
       "Area under the curve: 0.7554"
      ]
     },
     "metadata": {},
     "output_type": "display_data"
    }
   ],
   "source": [
    "#The SEBRA model is a bit better\n",
    "roc(test$konkurs, test$probs_konkurs_lr_s)"
   ]
  },
  {
   "cell_type": "code",
   "execution_count": 36,
   "metadata": {},
   "outputs": [
    {
     "data": {
      "text/plain": [
       "   \n",
       "         0      1\n",
       "  0 161454   1394\n",
       "  1   4572    137"
      ]
     },
     "metadata": {},
     "output_type": "display_data"
    }
   ],
   "source": [
    "\n",
    "library(class)\n",
    "library(lattice)\n",
    "library(ggplot2)\n",
    "library(caret)\n",
    "#Training a model using KNN with the altman variables. Using only one year as training data, because KNN requires a lot of computing power. \n",
    "train_2014 = train[train$regnaar == 2014]\n",
    "train_x = cbind(train_2014$x1,train_2014$x2,train_2014$x3,train_2014$x4,train_2014$x5)\n",
    "test_x = cbind(test$x1,test$x2,test$x3,test$x4,test$x5)\n",
    "test$pred_knn = knn(train_x, test_x,train_2014$konkurs, k=2)\n",
    "table(test$konkurs,test$pred_knn)\n"
   ]
  },
  {
   "cell_type": "code",
   "execution_count": 38,
   "metadata": {},
   "outputs": [
    {
     "name": "stderr",
     "output_type": "stream",
     "text": [
      "Warning message:\n",
      "\"glm.fit: fitted probabilities numerically 0 or 1 occurred\"Setting levels: control = 0, case = 1\n",
      "Setting direction: controls < cases\n",
      "Warning message:\n",
      "\"glm.fit: fitted probabilities numerically 0 or 1 occurred\"Setting levels: control = 0, case = 1\n",
      "Setting direction: controls < cases\n",
      "Warning message:\n",
      "\"glm.fit: fitted probabilities numerically 0 or 1 occurred\"Setting levels: control = 0, case = 1\n",
      "Setting direction: controls < cases\n"
     ]
    }
   ],
   "source": [
    "# Using k-fold crossvalidation and finding the average AUC across all folds.\n",
    "#First with altman Z, then with SEBRA variables in the next box. \n",
    "#Fitting a logistic model.\n",
    "sum_auc = 0\n",
    "data_sebra$konkurs=as.numeric(data_sebra$konkurs)\n",
    "for (year in 2013:2015){\n",
    "  train = data_sebra[data_sebra$regnaar<year,]\n",
    "  train = data_sebra[data_sebra$regnaar>=year-2,]\n",
    "  test = data_sebra[data_sebra$regnaar == year,]\n",
    "  model_lr_kfold = glm(konkurs~x1+x2+x3+x4+x5,data = train, family = binomial)\n",
    "  test$probs_konkurs_lr_kfold = predict(model_lr_kfold,test, type = \"response\")\n",
    "  roc_ting = roc(test$konkurs, test$probs_konkurs_lr_kfold)\n",
    "  sum_auc = sum_auc+roc_ting$auc\n",
    "}\n",
    "gjennom = sum_auc/3\n"
   ]
  },
  {
   "cell_type": "code",
   "execution_count": 41,
   "metadata": {},
   "outputs": [
    {
     "name": "stderr",
     "output_type": "stream",
     "text": [
      "Warning message:\n",
      "\"glm.fit: fitted probabilities numerically 0 or 1 occurred\"Setting levels: control = 0, case = 1\n",
      "Setting direction: controls < cases\n",
      "Warning message:\n",
      "\"glm.fit: fitted probabilities numerically 0 or 1 occurred\"Setting levels: control = 0, case = 1\n",
      "Setting direction: controls < cases\n",
      "Warning message:\n",
      "\"glm.fit: fitted probabilities numerically 0 or 1 occurred\"Setting levels: control = 0, case = 1\n",
      "Setting direction: controls < cases\n"
     ]
    }
   ],
   "source": [
    "sum_auc_s = 0\n",
    "data_sebra$konkurs=as.numeric(data_sebra$konkurs)\n",
    "for (year in 2013:2015){\n",
    "  train = data_sebra[data_sebra$regnaar<year,]\n",
    "  train = data_sebra[data_sebra$regnaar>=year-2,]\n",
    "  test = data_sebra[data_sebra$regnaar == year,]\n",
    "  model_lrs_kfold = glm(konkurs~v1+v2+v3+v4+v5+v6+a1+a2+a3+a4+a5+a6+a7+a8,data = train, family = binomial)\n",
    "  test$probs_konkurs_lrs_kfold = predict(model_lrs_kfold,test, type = \"response\")\n",
    "  roc_ting = roc(test$konkurs, test$probs_konkurs_lrs_kfold)\n",
    "  sum_auc_s = sum_auc_s+roc_ting$auc\n",
    "}\n",
    "gjennom_s = sum_auc_s/3"
   ]
  },
  {
   "cell_type": "code",
   "execution_count": 42,
   "metadata": {},
   "outputs": [
    {
     "name": "stdout",
     "output_type": "stream",
     "text": [
      "[1] 0.7319838\n",
      "[1] 0.7745542\n"
     ]
    }
   ],
   "source": [
    "print(gjennom)\n",
    "print(gjennom_s)"
   ]
  }
 ],
 "metadata": {
  "kernelspec": {
   "display_name": "R",
   "language": "R",
   "name": "ir"
  },
  "language_info": {
   "codemirror_mode": "r",
   "file_extension": ".r",
   "mimetype": "text/x-r-source",
   "name": "R",
   "pygments_lexer": "r",
   "version": "3.6.1"
  }
 },
 "nbformat": 4,
 "nbformat_minor": 4
}
